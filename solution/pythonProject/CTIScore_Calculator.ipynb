{
 "cells": [
  {
   "cell_type": "markdown",
   "metadata": {},
   "source": [
    "# Calcio Trends Impact Score\n",
    "\n",
    "## Overview\n",
    "Calcio Trends Impact Score is a metric that measures the impact of a player in a football match. It is calculated based on the player's performance in the match and the importance of the match. The score is calculated using a combination of various factors such as goals scored, assists, passes completed, tackles won, and other performance metrics. The score is then normalized to a scale of 0 to 100 to provide a standardized measure of a player's impact in a match."
   ]
  },
  {
   "cell_type": "code",
   "execution_count": 1,
   "metadata": {},
   "outputs": [],
   "source": [
    "import numpy as np\n",
    "import pandas as pd\n",
    "import matplotlib.pyplot as plt\n",
    "from dataclasses import dataclass\n",
    "import seaborn as sns\n",
    "from dataclasses import dataclass, field\n",
    "from typing import List\n",
    "import calculator as calc\n",
    "import csv"
   ]
  },
  {
   "cell_type": "code",
   "execution_count": 6,
   "metadata": {},
   "outputs": [],
   "source": [
    "app = pd.read_csv(\"Assignment_Data/appearances.csv\")\n",
    "players = pd.read_csv(\"Assignment_Data/players.csv\")"
   ]
  },
  {
   "cell_type": "code",
   "execution_count": 2,
   "metadata": {},
   "outputs": [],
   "source": [
    "@dataclass\n",
    "class game:\n",
    "    game_id: int\n",
    "    yellow_cards: int\n",
    "    red_cards: int\n",
    "    goals: int\n",
    "    assists: int\n",
    "    date: str\n",
    "\n",
    "@dataclass\n",
    "class Player_Data:\n",
    "    player_id: int\n",
    "    market_value_in_eur: float\n",
    "    position: str\n",
    "    games: list[game]\n",
    "    "
   ]
  },
  {
   "cell_type": "code",
   "execution_count": 18,
   "metadata": {},
   "outputs": [],
   "source": [
    "@dataclass\n",
    "class Player:\n",
    "    player_id: int\n",
    "    market_value_in_eur: float\n",
    "    position: str\n",
    "\n",
    "@dataclass\n",
    "class Appearance:\n",
    "    player_id: int\n",
    "    yellow_cards: int\n",
    "    red_cards: int\n",
    "    goals: int\n",
    "    assists: int\n",
    "    date: str\n",
    "    game_id: int\n",
    "\n",
    "@dataclass\n",
    "class PlayerStats:\n",
    "    player_id: int\n",
    "    market_value_in_eur: str\n",
    "    position: str\n",
    "    yellow_cards: List[int] = field(default_factory=list)\n",
    "    red_cards: List[int] = field(default_factory=list)\n",
    "    goals: List[int] = field(default_factory=list)\n",
    "    assists: List[int] = field(default_factory=list)\n",
    "    dates: List[str] = field(default_factory=list)\n",
    "    game_ids: List[int] = field(default_factory=list)\n"
   ]
  },
  {
   "cell_type": "code",
   "execution_count": 19,
   "metadata": {},
   "outputs": [],
   "source": [
    "def load_players_from_csv(file_path: str) -> List[Player]:\n",
    "    players = []\n",
    "    with open(file_path, newline='') as csvfile:\n",
    "        reader = csv.DictReader(csvfile)\n",
    "        for row in reader:\n",
    "            player = Player(\n",
    "                player_id=int(row['player_id']),\n",
    "                market_value_in_eur=row['market_value_in_eur'],\n",
    "                position=row['position']\n",
    "            )\n",
    "            players.append(player)\n",
    "    return players\n",
    "\n",
    "def load_appearances_from_csv(file_path: str) -> List[Appearance]:\n",
    "    appearances = []\n",
    "    with open(file_path, newline='') as csvfile:\n",
    "        reader = csv.DictReader(csvfile)\n",
    "        for row in reader:\n",
    "            appearance = Appearance(\n",
    "                player_id=int(row['player_id']),\n",
    "                yellow_cards=int(row['yellow_cards']),\n",
    "                red_cards=int(row['red_cards']),\n",
    "                goals=int(row['goals']),\n",
    "                assists=int(row['assists']),\n",
    "                date=row['date'],\n",
    "                game_id=int(row['game_id'])\n",
    "            )\n",
    "            appearances.append(appearance)\n",
    "    return appearances\n",
    "\n",
    "# Load data\n",
    "players = load_players_from_csv(\"Assignment_Data/players.csv\")\n",
    "app = load_appearances_from_csv(\"Assignment_Data/appearances.csv\")"
   ]
  },
  {
   "cell_type": "code",
   "execution_count": 3,
   "metadata": {},
   "outputs": [],
   "source": [
    "def filter_last_season(app: List[Appearance], filter_year: str) -> List[Appearance]:\n",
    "    return [appearance for appearance in app if filter_year in appearance.date]\n",
    "\n",
    "def merge_and_select_columns(players: List[Player], appearances: List[Appearance]) -> List[PlayerStats]:\n",
    "    player_stats = []\n",
    "    for player in players:\n",
    "        matching_appearances = [app for app in appearances if app.player_id == player.player_id]\n",
    "        if matching_appearances:\n",
    "            stats = PlayerStats(\n",
    "                player_id=player.player_id,\n",
    "                market_value_in_eur=player.market_value_in_eur,\n",
    "                position=player.position,\n",
    "                yellow_cards=[app.yellow_cards for app in matching_appearances],\n",
    "                red_cards=[app.red_cards for app in matching_appearances],\n",
    "                goals=[app.goals for app in matching_appearances],\n",
    "                assists=[app.assists for app in matching_appearances],\n",
    "                dates=[app.date for app in matching_appearances],\n",
    "                game_ids=[app.game_id for app in matching_appearances]\n",
    "            )\n",
    "            player_stats.append(stats)\n",
    "    return player_stats\n",
    "\n",
    "def group_by_player(player_stats: List[PlayerStats]) -> List[PlayerStats]:\n",
    "    # Grouping is inherently handled by the merge_and_select_columns function in this approach\n",
    "    return player_stats\n",
    "\n",
    "def filter(filter_year: str, players: List[Player], app: List[Appearance]) -> List[PlayerStats]:\n",
    "    appearances_last_season = filter_last_season(app, filter_year)\n",
    "    merged_data = merge_and_select_columns(players, appearances_last_season)\n",
    "    grouped_data = group_by_player(merged_data)\n",
    "    return grouped_data"
   ]
  },
  {
   "cell_type": "code",
   "execution_count": 21,
   "metadata": {},
   "outputs": [
    {
     "ename": "KeyboardInterrupt",
     "evalue": "",
     "output_type": "error",
     "traceback": [
      "\u001b[0;31m---------------------------------------------------------------------------\u001b[0m",
      "\u001b[0;31mKeyboardInterrupt\u001b[0m                         Traceback (most recent call last)",
      "Cell \u001b[0;32mIn[21], line 2\u001b[0m\n\u001b[1;32m      1\u001b[0m \u001b[38;5;66;03m# Example usage\u001b[39;00m\n\u001b[0;32m----> 2\u001b[0m grouped_df \u001b[38;5;241m=\u001b[39m \u001b[38;5;28;43mfilter\u001b[39;49m(\u001b[38;5;124m'\u001b[39m\u001b[38;5;124m2023\u001b[39m\u001b[38;5;124m'\u001b[39m, players, app)\n\u001b[1;32m      3\u001b[0m grouped_df\u001b[38;5;241m.\u001b[39mhead()  \u001b[38;5;66;03m# Display the first few rows of the resulting DataFrame\u001b[39;00m\n",
      "Cell \u001b[0;32mIn[21], line 2\u001b[0m\n\u001b[1;32m      1\u001b[0m \u001b[38;5;66;03m# Example usage\u001b[39;00m\n\u001b[0;32m----> 2\u001b[0m grouped_df \u001b[38;5;241m=\u001b[39m \u001b[38;5;28;43mfilter\u001b[39;49m(\u001b[38;5;124m'\u001b[39m\u001b[38;5;124m2023\u001b[39m\u001b[38;5;124m'\u001b[39m, players, app)\n\u001b[1;32m      3\u001b[0m grouped_df\u001b[38;5;241m.\u001b[39mhead()  \u001b[38;5;66;03m# Display the first few rows of the resulting DataFrame\u001b[39;00m\n",
      "File \u001b[0;32m_pydevd_bundle/pydevd_cython.pyx:1457\u001b[0m, in \u001b[0;36m_pydevd_bundle.pydevd_cython.SafeCallWrapper.__call__\u001b[0;34m()\u001b[0m\n",
      "File \u001b[0;32m_pydevd_bundle/pydevd_cython.pyx:701\u001b[0m, in \u001b[0;36m_pydevd_bundle.pydevd_cython.PyDBFrame.trace_dispatch\u001b[0;34m()\u001b[0m\n",
      "File \u001b[0;32m_pydevd_bundle/pydevd_cython.pyx:1152\u001b[0m, in \u001b[0;36m_pydevd_bundle.pydevd_cython.PyDBFrame.trace_dispatch\u001b[0;34m()\u001b[0m\n",
      "File \u001b[0;32m_pydevd_bundle/pydevd_cython.pyx:1135\u001b[0m, in \u001b[0;36m_pydevd_bundle.pydevd_cython.PyDBFrame.trace_dispatch\u001b[0;34m()\u001b[0m\n",
      "File \u001b[0;32m_pydevd_bundle/pydevd_cython.pyx:312\u001b[0m, in \u001b[0;36m_pydevd_bundle.pydevd_cython.PyDBFrame.do_wait_suspend\u001b[0;34m()\u001b[0m\n",
      "File \u001b[0;32m~/Progs/Tweb_Project/solution/pythonProject/.venv/lib/python3.10/site-packages/debugpy/_vendored/pydevd/pydevd.py:2070\u001b[0m, in \u001b[0;36mPyDB.do_wait_suspend\u001b[0;34m(self, thread, frame, event, arg, exception_type)\u001b[0m\n\u001b[1;32m   2067\u001b[0m             from_this_thread\u001b[38;5;241m.\u001b[39mappend(frame_custom_thread_id)\n\u001b[1;32m   2069\u001b[0m     \u001b[38;5;28;01mwith\u001b[39;00m \u001b[38;5;28mself\u001b[39m\u001b[38;5;241m.\u001b[39m_threads_suspended_single_notification\u001b[38;5;241m.\u001b[39mnotify_thread_suspended(thread_id, thread, stop_reason):\n\u001b[0;32m-> 2070\u001b[0m         keep_suspended \u001b[38;5;241m=\u001b[39m \u001b[38;5;28;43mself\u001b[39;49m\u001b[38;5;241;43m.\u001b[39;49m\u001b[43m_do_wait_suspend\u001b[49m\u001b[43m(\u001b[49m\u001b[43mthread\u001b[49m\u001b[43m,\u001b[49m\u001b[43m \u001b[49m\u001b[43mframe\u001b[49m\u001b[43m,\u001b[49m\u001b[43m \u001b[49m\u001b[43mevent\u001b[49m\u001b[43m,\u001b[49m\u001b[43m \u001b[49m\u001b[43marg\u001b[49m\u001b[43m,\u001b[49m\u001b[43m \u001b[49m\u001b[43msuspend_type\u001b[49m\u001b[43m,\u001b[49m\u001b[43m \u001b[49m\u001b[43mfrom_this_thread\u001b[49m\u001b[43m,\u001b[49m\u001b[43m \u001b[49m\u001b[43mframes_tracker\u001b[49m\u001b[43m)\u001b[49m\n\u001b[1;32m   2072\u001b[0m frames_list \u001b[38;5;241m=\u001b[39m \u001b[38;5;28;01mNone\u001b[39;00m\n\u001b[1;32m   2074\u001b[0m \u001b[38;5;28;01mif\u001b[39;00m keep_suspended:\n\u001b[1;32m   2075\u001b[0m     \u001b[38;5;66;03m# This means that we should pause again after a set next statement.\u001b[39;00m\n",
      "File \u001b[0;32m~/Progs/Tweb_Project/solution/pythonProject/.venv/lib/python3.10/site-packages/debugpy/_vendored/pydevd/pydevd.py:2106\u001b[0m, in \u001b[0;36mPyDB._do_wait_suspend\u001b[0;34m(self, thread, frame, event, arg, suspend_type, from_this_thread, frames_tracker)\u001b[0m\n\u001b[1;32m   2103\u001b[0m         \u001b[38;5;28mself\u001b[39m\u001b[38;5;241m.\u001b[39m_call_input_hook()\n\u001b[1;32m   2105\u001b[0m     \u001b[38;5;28mself\u001b[39m\u001b[38;5;241m.\u001b[39mprocess_internal_commands()\n\u001b[0;32m-> 2106\u001b[0m     \u001b[43mtime\u001b[49m\u001b[38;5;241;43m.\u001b[39;49m\u001b[43msleep\u001b[49m\u001b[43m(\u001b[49m\u001b[38;5;241;43m0.01\u001b[39;49m\u001b[43m)\u001b[49m\n\u001b[1;32m   2108\u001b[0m \u001b[38;5;28mself\u001b[39m\u001b[38;5;241m.\u001b[39mcancel_async_evaluation(get_current_thread_id(thread), \u001b[38;5;28mstr\u001b[39m(\u001b[38;5;28mid\u001b[39m(frame)))\n\u001b[1;32m   2110\u001b[0m \u001b[38;5;66;03m# process any stepping instructions\u001b[39;00m\n",
      "\u001b[0;31mKeyboardInterrupt\u001b[0m: "
     ]
    }
   ],
   "source": [
    "# Example usage\n",
    "grouped_df = filter('2023', players, app)\n",
    "grouped_df.head()  # Display the first few rows of the resulting DataFrame"
   ]
  },
  {
   "cell_type": "code",
   "execution_count": 28,
   "metadata": {},
   "outputs": [],
   "source": [
    "def calculate_score(player_data):\n",
    "    \"\"\"\n",
    "    Calculate the score for a player based on the given formula.\n",
    "    \n",
    "    Parameters:\n",
    "    player_data (tuple): A tuple containing position, a list of yellow cards, red cards, goals, and game ids.\n",
    "    \n",
    "    Returns:\n",
    "    float: The calculated score for the player.\n",
    "    \"\"\"\n",
    "    position, yellow_cards, red_cards, goals, assists, game_ids = player_data[1:7]\n",
    "    score = 1\n",
    "    \n",
    "    for i in range(len(game_ids)):\n",
    "        position_coefficient = 1+((position in ['attack', 'midfield']) * 0.2)\n",
    "        assist_score = int(assists[i]) * 0.45\n",
    "        goal_score = goals[i] * position_coefficient\n",
    "        yellow_card_score = yellow_cards[i] * -0.2\n",
    "        if position == 'defense':\n",
    "            yellow_card_score *= -1\n",
    "        red_card_score = red_cards[i] * -0.5\n",
    "        \n",
    "        game_score = goal_score + yellow_card_score + red_card_score + assist_score\n",
    "        score += game_score\n",
    "        \n",
    "    return score"
   ]
  },
  {
   "cell_type": "code",
   "execution_count": 29,
   "metadata": {},
   "outputs": [
    {
     "name": "stdout",
     "output_type": "stream",
     "text": [
      "The calculated score is: 5.9\n"
     ]
    }
   ],
   "source": [
    "# Example usage\n",
    "player_data_example = (\n",
    "    'player1',             # player_id\n",
    "    'attack',              # position\n",
    "    [1, 0, 2],             # yellow_cards list\n",
    "    [1, 0, 0],             # red_cards list\n",
    "    [0, 2, 0],             # goals list\n",
    "    [3, 1, 4],             # assists list\n",
    "    ['game1', 'game2', 'game3'],  # game_ids list\n",
    "    80000000               # market_value_in_eur\n",
    ")\n",
    "\n",
    "# Calculate score for the example player data\n",
    "score = calculate_score(player_data_example)\n",
    "\n",
    "print(f\"The calculated score is: {score}\")"
   ]
  },
  {
   "cell_type": "code",
   "execution_count": 30,
   "metadata": {},
   "outputs": [],
   "source": [
    "def normalize_scores(scores):\n",
    "    \"\"\"\n",
    "    Normalize the scores to be between 1 and 10.\n",
    "    \n",
    "    Parameters:\n",
    "    scores (list): A list of scores for all players.\n",
    "    \n",
    "    Returns:\n",
    "    list: A list of normalized scores between 1 and 100.\n",
    "    \"\"\"\n",
    "    min_score = min(scores)\n",
    "    max_score = max(scores)\n",
    "    normalized_scores = [1 + (score - min_score) * (100 - 1) / (max_score - min_score) for score in scores]\n",
    "    return normalized_scores"
   ]
  },
  {
   "cell_type": "code",
   "execution_count": 31,
   "metadata": {},
   "outputs": [
    {
     "name": "stdout",
     "output_type": "stream",
     "text": [
      "Player: player1, Original Score: 8.85, Normalized Score: 100.0\n",
      "Player: player2, Original Score: 8.3, Normalized Score: 93.31901840490798\n",
      "Player: player3, Original Score: 0.7, Normalized Score: 1.0\n"
     ]
    }
   ],
   "source": [
    "# Example usage\n",
    "players_data = [\n",
    "    ('player1', 'attack', [1, 0, 0], [0, 1, 0], [2, 1, 3], [1, 1, 1], ['game1', 'game2', 'game3']),\n",
    "    ('player2', 'midfield', [0, 0, 1], [0, 0, 0], [1, 2, 1], [2, 2, 2], ['game1', 'game2', 'game3']),\n",
    "    ('player3', 'defense', [0, 1, 0], [1, 0, 0], [0, 0, 0], [0, 0, 0], ['game1', 'game2', 'game3']),\n",
    "    # Add more player data as needed\n",
    "]\n",
    "\n",
    "# Calculate scores for all players\n",
    "scores = [calculate_score(player_data) for player_data in players_data]\n",
    "\n",
    "# Normalize the scores\n",
    "normalized_scores = normalize_scores(scores)\n",
    "\n",
    "# Display the normalized scores\n",
    "for player_data, score, normalized_score in zip(players_data, scores, normalized_scores):\n",
    "    print(f\"Player: {player_data[0]}, Original Score: {score}, Normalized Score: {normalized_score}\")\n"
   ]
  },
  {
   "cell_type": "code",
   "execution_count": 32,
   "metadata": {},
   "outputs": [
    {
     "ename": "ValueError",
     "evalue": "invalid literal for int() with base 10: 'r'",
     "output_type": "error",
     "traceback": [
      "\u001b[0;31m---------------------------------------------------------------------------\u001b[0m",
      "\u001b[0;31mValueError\u001b[0m                                Traceback (most recent call last)",
      "Cell \u001b[0;32mIn[32], line 4\u001b[0m\n\u001b[1;32m      1\u001b[0m data \u001b[38;5;241m=\u001b[39m \u001b[38;5;28mfilter\u001b[39m(\u001b[38;5;124m'\u001b[39m\u001b[38;5;124m2023\u001b[39m\u001b[38;5;124m'\u001b[39m)\n\u001b[1;32m      3\u001b[0m \u001b[38;5;66;03m# Calculate scores for all players\u001b[39;00m\n\u001b[0;32m----> 4\u001b[0m scores \u001b[38;5;241m=\u001b[39m [\u001b[43mcalculate_score\u001b[49m\u001b[43m(\u001b[49m\u001b[43mplayer_data\u001b[49m\u001b[43m)\u001b[49m \u001b[38;5;28;01mfor\u001b[39;00m player_data \u001b[38;5;129;01min\u001b[39;00m data]\n\u001b[1;32m      6\u001b[0m \u001b[38;5;66;03m# Normalize the scores\u001b[39;00m\n\u001b[1;32m      7\u001b[0m \u001b[38;5;66;03m#normalized_scores = normalize_scores(scores)\u001b[39;00m\n\u001b[1;32m      8\u001b[0m \n\u001b[1;32m      9\u001b[0m \u001b[38;5;66;03m# Display the normalized scores\u001b[39;00m\n\u001b[1;32m     10\u001b[0m \u001b[38;5;66;03m#for player_data, score, normalized_score in zip(data, scores, normalized_scores):\u001b[39;00m\n\u001b[1;32m     11\u001b[0m \u001b[38;5;66;03m#    print(f\"Player: {player_data[0]}, Original Score: {score}, Normalized Score: {normalized_score}\")\u001b[39;00m\n",
      "Cell \u001b[0;32mIn[28], line 16\u001b[0m, in \u001b[0;36mcalculate_score\u001b[0;34m(player_data)\u001b[0m\n\u001b[1;32m     14\u001b[0m \u001b[38;5;28;01mfor\u001b[39;00m i \u001b[38;5;129;01min\u001b[39;00m \u001b[38;5;28mrange\u001b[39m(\u001b[38;5;28mlen\u001b[39m(game_ids)):\n\u001b[1;32m     15\u001b[0m     position_coefficient \u001b[38;5;241m=\u001b[39m \u001b[38;5;241m1\u001b[39m\u001b[38;5;241m+\u001b[39m((position \u001b[38;5;129;01min\u001b[39;00m [\u001b[38;5;124m'\u001b[39m\u001b[38;5;124mattack\u001b[39m\u001b[38;5;124m'\u001b[39m, \u001b[38;5;124m'\u001b[39m\u001b[38;5;124mmidfield\u001b[39m\u001b[38;5;124m'\u001b[39m]) \u001b[38;5;241m*\u001b[39m \u001b[38;5;241m0.2\u001b[39m)\n\u001b[0;32m---> 16\u001b[0m     assist_score \u001b[38;5;241m=\u001b[39m \u001b[38;5;28;43mint\u001b[39;49m\u001b[43m(\u001b[49m\u001b[43massists\u001b[49m\u001b[43m[\u001b[49m\u001b[43mi\u001b[49m\u001b[43m]\u001b[49m\u001b[43m)\u001b[49m \u001b[38;5;241m*\u001b[39m \u001b[38;5;241m0.45\u001b[39m\n\u001b[1;32m     17\u001b[0m     goal_score \u001b[38;5;241m=\u001b[39m goals[i] \u001b[38;5;241m*\u001b[39m position_coefficient\n\u001b[1;32m     18\u001b[0m     yellow_card_score \u001b[38;5;241m=\u001b[39m yellow_cards[i] \u001b[38;5;241m*\u001b[39m \u001b[38;5;241m-\u001b[39m\u001b[38;5;241m0.2\u001b[39m\n",
      "\u001b[0;31mValueError\u001b[0m: invalid literal for int() with base 10: 'r'"
     ]
    }
   ],
   "source": [
    "data = filter('2023')\n",
    "\n",
    "# Calculate scores for all players\n",
    "scores = [calculate_score(player_data) for player_data in data]"
   ]
  }
 ],
 "metadata": {
  "kernelspec": {
   "display_name": "Python 3",
   "language": "python",
   "name": "python3"
  },
  "language_info": {
   "codemirror_mode": {
    "name": "ipython",
    "version": 3
   },
   "file_extension": ".py",
   "mimetype": "text/x-python",
   "name": "python",
   "nbconvert_exporter": "python",
   "pygments_lexer": "ipython3",
   "version": "3.12.3"
  }
 },
 "nbformat": 4,
 "nbformat_minor": 2
}
